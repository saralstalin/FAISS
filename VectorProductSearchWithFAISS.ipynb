{
  "nbformat": 4,
  "nbformat_minor": 0,
  "metadata": {
    "colab": {
      "provenance": [],
      "authorship_tag": "ABX9TyPjTFa/1VUwv8v/rS1bhw65",
      "include_colab_link": true
    },
    "kernelspec": {
      "name": "python3",
      "display_name": "Python 3"
    },
    "language_info": {
      "name": "python"
    }
  },
  "cells": [
    {
      "cell_type": "markdown",
      "metadata": {
        "id": "view-in-github",
        "colab_type": "text"
      },
      "source": [
        "<a href=\"https://colab.research.google.com/github/saralstalin/FAISS/blob/main/VectorProductSearchWithFAISS.ipynb\" target=\"_parent\"><img src=\"https://colab.research.google.com/assets/colab-badge.svg\" alt=\"Open In Colab\"/></a>"
      ]
    },
    {
      "cell_type": "code",
      "execution_count": 75,
      "metadata": {
        "id": "li7D2xGdaVJl"
      },
      "outputs": [],
      "source": [
        "!pip install -qU langchain-community langchain_openai faiss-gpu gradio"
      ]
    },
    {
      "cell_type": "code",
      "source": [
        "import faiss, csv\n",
        "import gradio as gr\n",
        "from langchain_community.docstore.in_memory import InMemoryDocstore\n",
        "from langchain_openai import OpenAIEmbeddings\n",
        "from langchain_community.vectorstores import FAISS as FaissVectorStore\n",
        "from google.colab import userdata\n",
        "from uuid import uuid4\n",
        "from langchain_core.documents import Document"
      ],
      "metadata": {
        "id": "HSnGQ7xTa2wo"
      },
      "execution_count": 76,
      "outputs": []
    },
    {
      "cell_type": "code",
      "source": [
        "#need private API Key to use Open AI embeddings\n",
        "openAIAPIKey = userdata.get('OpenAIAPIKey')\n",
        "OpenAITextembeddings = OpenAIEmbeddings(model=\"text-embedding-3-small\"\n",
        "                                        , api_key=openAIAPIKey)"
      ],
      "metadata": {
        "id": "H7yaJu_WbFkb"
      },
      "execution_count": 77,
      "outputs": []
    },
    {
      "cell_type": "code",
      "source": [
        "index = faiss.IndexFlatL2(len(OpenAITextembeddings.embed_query(\"\")))\n",
        "\n",
        "#define vector store\n",
        "vector_store = FaissVectorStore(\n",
        "    embedding_function=OpenAITextembeddings,\n",
        "    index=index,\n",
        "    docstore=InMemoryDocstore(),\n",
        "    index_to_docstore_id={},\n",
        ")"
      ],
      "metadata": {
        "id": "1hwOtGDGbg1T"
      },
      "execution_count": 78,
      "outputs": []
    },
    {
      "cell_type": "code",
      "source": [
        "#read from products.csv, ignore conversion issues\n",
        "with open('/content/Products.csv', 'r') as f:\n",
        "    reader = csv.reader(f)\n",
        "    documents = []\n",
        "    for row in reader:\n",
        "        try:\n",
        "          price = float(row[2])\n",
        "          product = Document(page_content=row[0]\n",
        "                             , metadata={\"Quantity\": row[1]\n",
        "                                         , \"Price\": price})\n",
        "          documents.append(product)\n",
        "        except ValueError:\n",
        "          print(f\"Error converting price: {row[2]}\")\n",
        "\n",
        "vector_store.add_documents(documents)\n",
        "\n"
      ],
      "metadata": {
        "id": "GDNg4oZ8W9yG"
      },
      "execution_count": null,
      "outputs": []
    },
    {
      "cell_type": "code",
      "source": [
        "def FindProducts(SearchTerm\n",
        "                 , PriceMin = 0\n",
        "                 , PriceMax = 999999\n",
        "                 , NumberOfResults = 10\n",
        "                 , MaxSimilarityScore = 2):\n",
        "\n",
        "    results = vector_store.similarity_search_with_score(SearchTerm\n",
        "                                                        , k=NumberOfResults,)\n",
        "\n",
        "    #filter results by price and similarity score\n",
        "    #for some reason, direct filter in similarity search is not working well.\n",
        "    filteredResults = [res for res, score in results\n",
        "                        if res.metadata[\"Price\"] >= PriceMin\n",
        "                           and res.metadata[\"Price\"] <= PriceMax\n",
        "                           and score <= MaxSimilarityScore]\n",
        "\n",
        "    if len(filteredResults) == 0:\n",
        "        return \"No results found\"\n",
        "\n",
        "    #Adding Markdown to show results in a table\n",
        "    response = \"|Product|Quantity|Price|\\n\"\n",
        "    response += \"|---|---|---|\\n\"\n",
        "\n",
        "    #generate a result array with page_content and price alone\n",
        "    for res in filteredResults:\n",
        "       response += \"|\" + res.page_content + \"|\" + res.metadata[\"Quantity\"] + \"|\" + str(res.metadata[\"Price\"] ) + \"|\\n\"\n",
        "\n",
        "    return response\n",
        "\n"
      ],
      "metadata": {
        "id": "7Acu6QjbeA2E"
      },
      "execution_count": 80,
      "outputs": []
    },
    {
      "cell_type": "code",
      "source": [
        "#testing search result\n",
        "searchResult = FindProducts(\"apple\", PriceMax=200, MaxSimilarityScore=2)\n",
        "\n",
        "print(searchResult)"
      ],
      "metadata": {
        "id": "ary7aVW1g8Sa"
      },
      "execution_count": null,
      "outputs": []
    },
    {
      "cell_type": "code",
      "source": [
        "#building a UI interface for easy testing\n",
        "iface = gr.Interface(\n",
        "    fn=FindProducts,\n",
        "    inputs=[\n",
        "        gr.Textbox(label=\"Search\", placeholder=\"Enter a search term\"),\n",
        "        gr.Number(label=\"Price Min\", value=0, ),\n",
        "        gr.Number(label=\"Price Max\", value=999999),\n",
        "        gr.Number(label=\"Max Number of Results\", value=10),\n",
        "        gr.Number(label=\"Similarity Score\", value=1.5),\n",
        "    ],\n",
        "    outputs=gr.Markdown(),\n",
        "    title=\"Product Search\",\n",
        "    submit_btn=\"Search\",\n",
        "    clear_btn=None,\n",
        ")\n",
        "\n",
        "# Launch the interface\n",
        "iface.launch()"
      ],
      "metadata": {
        "id": "TYJMNPR7ucTs"
      },
      "execution_count": null,
      "outputs": []
    }
  ]
}