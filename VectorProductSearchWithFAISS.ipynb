{
  "nbformat": 4,
  "nbformat_minor": 0,
  "metadata": {
    "colab": {
      "provenance": [],
      "authorship_tag": "ABX9TyOhk4NgkkMEVoSeOsPOdFw1",
      "include_colab_link": true
    },
    "kernelspec": {
      "name": "python3",
      "display_name": "Python 3"
    },
    "language_info": {
      "name": "python"
    }
  },
  "cells": [
    {
      "cell_type": "markdown",
      "metadata": {
        "id": "view-in-github",
        "colab_type": "text"
      },
      "source": [
        "<a href=\"https://colab.research.google.com/github/saralstalin/FAISS/blob/main/VectorProductSearchWithFAISS.ipynb\" target=\"_parent\"><img src=\"https://colab.research.google.com/assets/colab-badge.svg\" alt=\"Open In Colab\"/></a>"
      ]
    },
    {
      "cell_type": "code",
      "execution_count": 1,
      "metadata": {
        "colab": {
          "base_uri": "https://localhost:8080/"
        },
        "id": "li7D2xGdaVJl",
        "outputId": "c4302c5a-4de4-4d15-80cc-94336f0aab19"
      },
      "outputs": [
        {
          "output_type": "stream",
          "name": "stdout",
          "text": [
            "\u001b[2K     \u001b[90m━━━━━━━━━━━━━━━━━━━━━━━━━━━━━━━━━━━━━━━━\u001b[0m \u001b[32m50.4/50.4 kB\u001b[0m \u001b[31m1.3 MB/s\u001b[0m eta \u001b[36m0:00:00\u001b[0m\n",
            "\u001b[2K   \u001b[90m━━━━━━━━━━━━━━━━━━━━━━━━━━━━━━━━━━━━━━━━\u001b[0m \u001b[32m2.3/2.3 MB\u001b[0m \u001b[31m13.4 MB/s\u001b[0m eta \u001b[36m0:00:00\u001b[0m\n",
            "\u001b[2K   \u001b[90m━━━━━━━━━━━━━━━━━━━━━━━━━━━━━━━━━━━━━━━━\u001b[0m \u001b[32m52.0/52.0 kB\u001b[0m \u001b[31m1.9 MB/s\u001b[0m eta \u001b[36m0:00:00\u001b[0m\n",
            "\u001b[2K   \u001b[90m━━━━━━━━━━━━━━━━━━━━━━━━━━━━━━━━━━━━━━━━\u001b[0m \u001b[32m85.5/85.5 MB\u001b[0m \u001b[31m6.5 MB/s\u001b[0m eta \u001b[36m0:00:00\u001b[0m\n",
            "\u001b[2K   \u001b[90m━━━━━━━━━━━━━━━━━━━━━━━━━━━━━━━━━━━━━━━━\u001b[0m \u001b[32m8.7/8.7 MB\u001b[0m \u001b[31m56.2 MB/s\u001b[0m eta \u001b[36m0:00:00\u001b[0m\n",
            "\u001b[2K   \u001b[90m━━━━━━━━━━━━━━━━━━━━━━━━━━━━━━━━━━━━━━━━\u001b[0m \u001b[32m16.8/16.8 MB\u001b[0m \u001b[31m58.0 MB/s\u001b[0m eta \u001b[36m0:00:00\u001b[0m\n",
            "\u001b[2K   \u001b[90m━━━━━━━━━━━━━━━━━━━━━━━━━━━━━━━━━━━━━━━━\u001b[0m \u001b[32m318.7/318.7 kB\u001b[0m \u001b[31m18.2 MB/s\u001b[0m eta \u001b[36m0:00:00\u001b[0m\n",
            "\u001b[2K   \u001b[90m━━━━━━━━━━━━━━━━━━━━━━━━━━━━━━━━━━━━━━━━\u001b[0m \u001b[32m207.3/207.3 kB\u001b[0m \u001b[31m11.1 MB/s\u001b[0m eta \u001b[36m0:00:00\u001b[0m\n",
            "\u001b[2K   \u001b[90m━━━━━━━━━━━━━━━━━━━━━━━━━━━━━━━━━━━━━━━━\u001b[0m \u001b[32m75.6/75.6 kB\u001b[0m \u001b[31m4.6 MB/s\u001b[0m eta \u001b[36m0:00:00\u001b[0m\n",
            "\u001b[2K   \u001b[90m━━━━━━━━━━━━━━━━━━━━━━━━━━━━━━━━━━━━━━━━\u001b[0m \u001b[32m77.9/77.9 kB\u001b[0m \u001b[31m4.5 MB/s\u001b[0m eta \u001b[36m0:00:00\u001b[0m\n",
            "\u001b[2K   \u001b[90m━━━━━━━━━━━━━━━━━━━━━━━━━━━━━━━━━━━━━━━━\u001b[0m \u001b[32m997.8/997.8 kB\u001b[0m \u001b[31m43.5 MB/s\u001b[0m eta \u001b[36m0:00:00\u001b[0m\n",
            "\u001b[2K   \u001b[90m━━━━━━━━━━━━━━━━━━━━━━━━━━━━━━━━━━━━━━━━\u001b[0m \u001b[32m393.9/393.9 kB\u001b[0m \u001b[31m21.8 MB/s\u001b[0m eta \u001b[36m0:00:00\u001b[0m\n",
            "\u001b[2K   \u001b[90m━━━━━━━━━━━━━━━━━━━━━━━━━━━━━━━━━━━━━━━━\u001b[0m \u001b[32m149.1/149.1 kB\u001b[0m \u001b[31m9.4 MB/s\u001b[0m eta \u001b[36m0:00:00\u001b[0m\n",
            "\u001b[2K   \u001b[90m━━━━━━━━━━━━━━━━━━━━━━━━━━━━━━━━━━━━━━━━\u001b[0m \u001b[32m362.9/362.9 kB\u001b[0m \u001b[31m20.3 MB/s\u001b[0m eta \u001b[36m0:00:00\u001b[0m\n",
            "\u001b[2K   \u001b[90m━━━━━━━━━━━━━━━━━━━━━━━━━━━━━━━━━━━━━━━━\u001b[0m \u001b[32m141.9/141.9 kB\u001b[0m \u001b[31m8.8 MB/s\u001b[0m eta \u001b[36m0:00:00\u001b[0m\n",
            "\u001b[2K   \u001b[90m━━━━━━━━━━━━━━━━━━━━━━━━━━━━━━━━━━━━━━━━\u001b[0m \u001b[32m6.9/6.9 MB\u001b[0m \u001b[31m70.7 MB/s\u001b[0m eta \u001b[36m0:00:00\u001b[0m\n",
            "\u001b[2K   \u001b[90m━━━━━━━━━━━━━━━━━━━━━━━━━━━━━━━━━━━━━━━━\u001b[0m \u001b[32m10.3/10.3 MB\u001b[0m \u001b[31m73.6 MB/s\u001b[0m eta \u001b[36m0:00:00\u001b[0m\n",
            "\u001b[2K   \u001b[90m━━━━━━━━━━━━━━━━━━━━━━━━━━━━━━━━━━━━━━━━\u001b[0m \u001b[32m1.1/1.1 MB\u001b[0m \u001b[31m39.5 MB/s\u001b[0m eta \u001b[36m0:00:00\u001b[0m\n",
            "\u001b[2K   \u001b[90m━━━━━━━━━━━━━━━━━━━━━━━━━━━━━━━━━━━━━━━━\u001b[0m \u001b[32m62.8/62.8 kB\u001b[0m \u001b[31m3.7 MB/s\u001b[0m eta \u001b[36m0:00:00\u001b[0m\n",
            "\u001b[2K   \u001b[90m━━━━━━━━━━━━━━━━━━━━━━━━━━━━━━━━━━━━━━━━\u001b[0m \u001b[32m82.9/82.9 kB\u001b[0m \u001b[31m5.0 MB/s\u001b[0m eta \u001b[36m0:00:00\u001b[0m\n",
            "\u001b[2K   \u001b[90m━━━━━━━━━━━━━━━━━━━━━━━━━━━━━━━━━━━━━━━━\u001b[0m \u001b[32m93.5/93.5 kB\u001b[0m \u001b[31m5.4 MB/s\u001b[0m eta \u001b[36m0:00:00\u001b[0m\n",
            "\u001b[2K   \u001b[90m━━━━━━━━━━━━━━━━━━━━━━━━━━━━━━━━━━━━━━━━\u001b[0m \u001b[32m62.7/62.7 kB\u001b[0m \u001b[31m3.6 MB/s\u001b[0m eta \u001b[36m0:00:00\u001b[0m\n",
            "\u001b[2K   \u001b[90m━━━━━━━━━━━━━━━━━━━━━━━━━━━━━━━━━━━━━━━━\u001b[0m \u001b[32m58.3/58.3 kB\u001b[0m \u001b[31m3.0 MB/s\u001b[0m eta \u001b[36m0:00:00\u001b[0m\n",
            "\u001b[2K   \u001b[90m━━━━━━━━━━━━━━━━━━━━━━━━━━━━━━━━━━━━━━━━\u001b[0m \u001b[32m318.9/318.9 kB\u001b[0m \u001b[31m16.3 MB/s\u001b[0m eta \u001b[36m0:00:00\u001b[0m\n",
            "\u001b[2K   \u001b[90m━━━━━━━━━━━━━━━━━━━━━━━━━━━━━━━━━━━━━━━━\u001b[0m \u001b[32m49.3/49.3 kB\u001b[0m \u001b[31m2.6 MB/s\u001b[0m eta \u001b[36m0:00:00\u001b[0m\n",
            "\u001b[2K   \u001b[90m━━━━━━━━━━━━━━━━━━━━━━━━━━━━━━━━━━━━━━━━\u001b[0m \u001b[32m72.0/72.0 kB\u001b[0m \u001b[31m3.8 MB/s\u001b[0m eta \u001b[36m0:00:00\u001b[0m\n",
            "\u001b[2K   \u001b[90m━━━━━━━━━━━━━━━━━━━━━━━━━━━━━━━━━━━━━━━━\u001b[0m \u001b[32m130.2/130.2 kB\u001b[0m \u001b[31m8.0 MB/s\u001b[0m eta \u001b[36m0:00:00\u001b[0m\n",
            "\u001b[?25h"
          ]
        }
      ],
      "source": [
        "pip install -qU langchain-community langchain_openai faiss-gpu gradio"
      ]
    },
    {
      "cell_type": "code",
      "source": [
        "import faiss, csv\n",
        "from langchain_community.docstore.in_memory import InMemoryDocstore\n",
        "from langchain_openai import OpenAIEmbeddings\n",
        "from langchain_community.vectorstores import FAISS as FaissVectorStore\n",
        "from google.colab import userdata\n",
        "from uuid import uuid4\n",
        "from langchain_core.documents import Document"
      ],
      "metadata": {
        "id": "HSnGQ7xTa2wo"
      },
      "execution_count": 2,
      "outputs": []
    },
    {
      "cell_type": "code",
      "source": [
        "#need private API Key to use Open AI embeddings\n",
        "openAIAPIKey = userdata.get('OpenAIAPIKey')\n",
        "OpenAITextembeddings = OpenAIEmbeddings(model=\"text-embedding-3-small\"\n",
        "                                        , api_key=openAIAPIKey)"
      ],
      "metadata": {
        "id": "H7yaJu_WbFkb"
      },
      "execution_count": 3,
      "outputs": []
    },
    {
      "cell_type": "code",
      "source": [
        "index = faiss.IndexFlatL2(len(OpenAITextembeddings.embed_query(\"\")))\n",
        "\n",
        "#define vector store\n",
        "vector_store = FaissVectorStore(\n",
        "    embedding_function=OpenAITextembeddings,\n",
        "    index=index,\n",
        "    docstore=InMemoryDocstore(),\n",
        "    index_to_docstore_id={},\n",
        ")"
      ],
      "metadata": {
        "id": "1hwOtGDGbg1T"
      },
      "execution_count": 4,
      "outputs": []
    },
    {
      "cell_type": "code",
      "source": [
        "#read from products.csv, ignore conversion issues\n",
        "with open('/content/Products.csv', 'r') as f:\n",
        "    reader = csv.reader(f)\n",
        "    documents = []\n",
        "    for row in reader:\n",
        "        try:\n",
        "          price = float(row[2])\n",
        "          product = Document(page_content=row[0]\n",
        "                             , metadata={\"Quantity\": row[1]\n",
        "                                         , \"Price\": price})\n",
        "          documents.append(product)\n",
        "        except ValueError:\n",
        "          print(f\"Error converting price: {row[2]}\")\n",
        "\n",
        "vector_store.add_documents(documents)\n",
        "\n"
      ],
      "metadata": {
        "colab": {
          "base_uri": "https://localhost:8080/"
        },
        "id": "GDNg4oZ8W9yG",
        "outputId": "b8c213ed-5710-4275-a876-874db248dfcc"
      },
      "execution_count": 5,
      "outputs": [
        {
          "output_type": "stream",
          "name": "stdout",
          "text": [
            "Error converting price: Price\n"
          ]
        },
        {
          "output_type": "execute_result",
          "data": {
            "text/plain": [
              "['a2efef86-76a0-41cc-9f41-0bbc4322c658',\n",
              " 'a237893b-527d-408f-9372-841b7a2cfebe',\n",
              " '3cc20434-2041-462d-a830-895137a7344b',\n",
              " 'b165c325-1732-48ba-a4e5-0efbbe8bffce',\n",
              " '4a7f5170-9334-4ebe-9fd9-4465670885c5',\n",
              " '598a7a41-953f-4925-ad47-cc8d125a47ac',\n",
              " 'e0748296-d731-4e39-802a-c957748ac62d',\n",
              " '419bacea-89f3-46a4-b1a3-e49b83f6c774',\n",
              " '0a7fb09c-0686-4ed9-9544-bdf439893abb',\n",
              " 'c46b1f94-f362-4452-b90f-134489e85e81',\n",
              " '88d5aba4-900f-4476-8541-2a7f0c1d8fb6',\n",
              " '40ad0d21-74a1-45c8-85a6-20a7526e2622',\n",
              " '114e21f5-dc6a-4783-870a-956672d264f7',\n",
              " '62ad95a5-a99e-4274-b6dd-0f1c06774037',\n",
              " '094feed6-c21d-4219-b6bd-70ee774131f5',\n",
              " 'ade68510-b83f-4431-a98a-6e7864078de3',\n",
              " 'ebf89078-0aa0-4547-bc0f-45bc2604ba13',\n",
              " '1aef2d1f-f663-47ea-93e9-95340c773ff0',\n",
              " 'de9fd6fe-13db-4510-bd45-bcd3a534d796',\n",
              " '9d08302b-89d2-4e77-9b27-4e2f01140b8e',\n",
              " '9c00452f-dbe5-4531-81f1-252978c91736',\n",
              " '9290ea5b-63ff-41a4-af05-0e3088e30100',\n",
              " 'cc500c62-bc82-405d-88c2-c890115cd103',\n",
              " 'fd907eb0-31cc-4e91-96c6-57eb7ce1f819',\n",
              " 'e19c3985-3927-4a5d-87eb-b6016ce92ba3',\n",
              " 'aea1606b-5a4f-4749-aed3-4cf8ef39f168',\n",
              " 'db3e52e9-75ae-4bf0-b2c3-8b153cf828d8',\n",
              " '55d0a447-a45a-4ef8-9ab7-e490aa6ca5ba',\n",
              " 'a94ba782-b8c7-4a68-b106-918d7d56f85a',\n",
              " '98cf305a-e401-4054-b711-61afa565242c',\n",
              " '12dfd271-7e00-4756-bc7f-2eb869ce2b50',\n",
              " '8bc18a01-c6f9-4e1d-9b19-52e1c6872c99',\n",
              " '136cf586-913c-4a3b-95e8-01221cdf49e9',\n",
              " 'c3aa3f40-3b23-47fe-815c-33796daa435d',\n",
              " '6b7ad8c5-ad9a-4442-9bf9-110d3f9801d0',\n",
              " '4921fac3-35fb-4d11-bdc2-efc8ae133e4a',\n",
              " '8ab28183-248d-420d-9d7a-b6921dcf4f8b',\n",
              " 'f8079c97-27bd-4f77-8870-0cc1ab795a61',\n",
              " '2b924c30-0ecf-409d-bf17-33e0381ab76a',\n",
              " '0c7bd968-8b06-4ceb-ae4f-92a21946ccde',\n",
              " '5235e8b1-d9b6-440b-8e51-bc1e235a269e',\n",
              " '33b611ef-f1d4-49d4-a67d-1a8bacc39461',\n",
              " '06d85f1c-86db-45b5-a286-b582f1c3fc5f',\n",
              " '2ef998dd-0425-4e96-acd1-dc05524512b6',\n",
              " '6166db2c-7fd2-4c53-9d76-de8b35920c6a',\n",
              " '06b0fa94-95aa-45e2-a6cb-4f46426597bf',\n",
              " '84ef8094-5cc1-4688-b770-79ada15f1ff1',\n",
              " '57fe7574-6701-4c52-bbbc-4ec806f35439',\n",
              " 'fba8948e-a6de-4315-85aa-07b0146d2d0d',\n",
              " 'b58dae5f-5030-4c95-8406-ed7dac5df7cf',\n",
              " '097fe5e3-a537-4d45-ab61-0eab9369d1e8',\n",
              " 'e5748dcc-81c0-47c8-bdc7-c54bc81097e1',\n",
              " '8b051225-7e2b-4474-be87-fd8fa66c95ce',\n",
              " 'f1e58705-b48c-4667-be1c-2ecb335aa1a2',\n",
              " '4a2ca3a0-a4a8-4acf-b14f-d83c6a2f01fb',\n",
              " '9c7afe08-463c-4261-957a-1ee475ea1354',\n",
              " 'ee07b3e0-b63f-4a5a-9e0e-9a539e7017bc',\n",
              " '92af576b-ddfe-4309-9742-6a0f3416e64d',\n",
              " '2473918f-4117-49b0-b216-bb6153445f54',\n",
              " '3645956b-74c5-4f93-84a8-b72b98ae9d67',\n",
              " '833bbee3-da34-4e24-b421-579c5216304e',\n",
              " '322e0b78-5e2c-4450-8e1e-9083620bb790',\n",
              " '90d64d91-050a-4561-b495-51e873c5c6ce',\n",
              " '0c4da964-0333-4418-8074-57c17d93e992',\n",
              " '75b3fd64-c93f-4ccb-8141-6b5307baaad9',\n",
              " '9f34b081-e8fa-4c4f-8bb0-f77bb0091c7c',\n",
              " 'ee610dad-f367-41ab-bdac-101f2a37998f',\n",
              " '22741b46-9e74-46d6-92dc-40752d501220',\n",
              " '4299cc5b-3ff8-48e4-a28c-c45997db45bd',\n",
              " '50e26d2b-71ba-432c-a7ed-204985fc567e',\n",
              " '0cfd88d5-d1c2-4c56-8e76-8835719cda9d',\n",
              " '17623717-1810-4cbc-bf75-caf8f93ce680',\n",
              " 'b63dfffc-ebbf-45b9-8134-bce876eefdfb',\n",
              " '7ed0a397-e3c9-4ca8-8d6f-e37ab6044fd3',\n",
              " '804d1e60-0401-4ae3-9232-3afa6f4d9fcf',\n",
              " 'fb65e4d6-a462-45f8-84c4-e4721fce45e8',\n",
              " '57ab1f54-399d-4340-bcde-0725db69b658',\n",
              " '37a89a22-1b38-4e45-bfc4-842110e5a0cb',\n",
              " '07c0da44-388c-46ac-8e09-7e02d625cf89',\n",
              " '58772aff-65cd-43f3-b510-c78afd9235a6',\n",
              " 'ef9f5b43-872f-4bfc-800c-cafdb9b2ab2e',\n",
              " 'a77f52ab-fd11-4816-acea-4e4772bd5b0b',\n",
              " '06559693-b514-4391-83cf-c7b925ef1af0',\n",
              " '949925a8-4f65-4d9d-bcf6-f40ce11cbfbd',\n",
              " '27a7053b-abc1-463a-88e4-9ee09d667481',\n",
              " '96548902-6326-415d-b3d3-e57eca029e95',\n",
              " '0d8768b7-f9c8-4a15-829d-0072c1949113',\n",
              " '9f50dd43-428b-4834-b377-85a91c30d404']"
            ]
          },
          "metadata": {},
          "execution_count": 5
        }
      ]
    },
    {
      "cell_type": "code",
      "source": [
        "def FindProducts(SearchTerm\n",
        "                 , PriceMin = 0\n",
        "                 , PriceMax = 999999\n",
        "                 , NumberOfResults = 10\n",
        "                 , MaxSimilarityScore = 2):\n",
        "\n",
        "    results = vector_store.similarity_search_with_score(SearchTerm\n",
        "                                                        , k=NumberOfResults,)\n",
        "\n",
        "    filteredResults = [res for res, score in results\n",
        "                        if res.metadata[\"Price\"] >= PriceMin\n",
        "                           and res.metadata[\"Price\"] <= PriceMax\n",
        "                           and score <= MaxSimilarityScore]\n",
        "\n",
        "    if len(filteredResults) == 0:\n",
        "        return \"No results found\"\n",
        "\n",
        "    #return filtered_results\n",
        "\n",
        "    # # Sort the results by similarity score\n",
        "    #filteredResults.sort(key=lambda x: x[1])\n",
        "\n",
        "    response = \"|Product|Quantity|Price|\\n\"\n",
        "    response += \"|---|---|---|\\n\"\n",
        "\n",
        "    #generate a result array with page_content and price alone\n",
        "    for res in filteredResults:\n",
        "       response += \"|\" + res.page_content + \"|\" + res.metadata[\"Quantity\"] + \"|\" + str(res.metadata[\"Price\"] ) + \"|\\n\"\n",
        "\n",
        "    return response\n",
        "\n"
      ],
      "metadata": {
        "id": "7Acu6QjbeA2E"
      },
      "execution_count": 72,
      "outputs": []
    },
    {
      "cell_type": "code",
      "source": [
        "searchResult = FindProducts(\"apple\", PriceMax=200, MaxSimilarityScore=2)\n",
        "\n",
        "print(searchResult)"
      ],
      "metadata": {
        "colab": {
          "base_uri": "https://localhost:8080/"
        },
        "id": "ary7aVW1g8Sa",
        "outputId": "486a0d53-d540-4e99-ce50-91d8850b0959"
      },
      "execution_count": 73,
      "outputs": [
        {
          "output_type": "stream",
          "name": "stdout",
          "text": [
            "|Product|Quantity|Price|\n",
            "|---|---|---|\n",
            "|Apples|1kg |100.0|\n",
            "|Beans|1kg |50.0|\n",
            "|Pineapple|1kg |50.0|\n",
            "|Peaches|1kg |150.0|\n",
            "|Oranges|1kg |80.0|\n",
            "|Grapes|1kg |100.0|\n",
            "\n"
          ]
        }
      ]
    },
    {
      "cell_type": "code",
      "source": [
        "import gradio as gr"
      ],
      "metadata": {
        "id": "HcVxv7_Gui7q"
      },
      "execution_count": 18,
      "outputs": []
    },
    {
      "cell_type": "code",
      "source": [
        "iface = gr.Interface(\n",
        "    fn=FindProducts,\n",
        "    inputs=[\n",
        "        gr.Textbox(label=\"Search...\"),\n",
        "        gr.Number(label=\"Price Min\", value=0),\n",
        "        gr.Number(label=\"Price Max\", value=999999),\n",
        "        gr.Number(label=\"Number of Results\", value=10),\n",
        "        gr.Number(label=\"Match Rate\", value=2),\n",
        "    ],\n",
        "    outputs=gr.Markdown(),\n",
        "    title=\"Product Search\",\n",
        "    description=\"Enter a search term and get product suggestions.\",\n",
        "    submit_btn=\"Search\",\n",
        ")\n",
        "\n",
        "# Launch the interface\n",
        "iface.launch()"
      ],
      "metadata": {
        "colab": {
          "base_uri": "https://localhost:8080/",
          "height": 645
        },
        "id": "TYJMNPR7ucTs",
        "outputId": "0c2f51c6-f568-4706-b406-fb2b3e0be7f0"
      },
      "execution_count": 74,
      "outputs": [
        {
          "output_type": "stream",
          "name": "stdout",
          "text": [
            "Setting queue=True in a Colab notebook requires sharing enabled. Setting `share=True` (you can turn this off by setting `share=False` in `launch()` explicitly).\n",
            "\n",
            "Colab notebook detected. To show errors in colab notebook, set debug=True in launch()\n",
            "Running on public URL: https://de2a9c0f9eca11fa64.gradio.live\n",
            "\n",
            "This share link expires in 72 hours. For free permanent hosting and GPU upgrades, run `gradio deploy` from Terminal to deploy to Spaces (https://huggingface.co/spaces)\n"
          ]
        },
        {
          "output_type": "display_data",
          "data": {
            "text/plain": [
              "<IPython.core.display.HTML object>"
            ],
            "text/html": [
              "<div><iframe src=\"https://de2a9c0f9eca11fa64.gradio.live\" width=\"100%\" height=\"500\" allow=\"autoplay; camera; microphone; clipboard-read; clipboard-write;\" frameborder=\"0\" allowfullscreen></iframe></div>"
            ]
          },
          "metadata": {}
        },
        {
          "output_type": "execute_result",
          "data": {
            "text/plain": []
          },
          "metadata": {},
          "execution_count": 74
        }
      ]
    }
  ]
}